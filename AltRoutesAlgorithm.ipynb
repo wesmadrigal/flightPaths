{
 "cells": [
  {
   "cell_type": "code",
   "execution_count": 1,
   "metadata": {
    "collapsed": true
   },
   "outputs": [],
   "source": [
    "# there is interest in building an alternative flight search algorithm\n",
    "# the motivation behind this is the dishonest price schemes of the airlines\n",
    "# there is a service called skiplagged.com, which does something extremely similar\n",
    "# however, I don't think there is room for just one competitor in this space\n",
    "# and a lot of the hard work is already done"
   ]
  },
  {
   "cell_type": "code",
   "execution_count": 2,
   "metadata": {
    "collapsed": false
   },
   "outputs": [],
   "source": [
    "from build_graphs import find_airports, parse_routes, get_airport_data"
   ]
  },
  {
   "cell_type": "code",
   "execution_count": 3,
   "metadata": {
    "collapsed": false
   },
   "outputs": [
    {
     "data": {
      "text/plain": [
       "[{'airport_id': '7936',\n",
       "  'altitude': '647',\n",
       "  'city': 'Chicago-Wheeling',\n",
       "  'count': 0,\n",
       "  'country': 'United States',\n",
       "  'dst': 'A',\n",
       "  'iata/faa': 'PWK',\n",
       "  'icao': 'KPWK',\n",
       "  'latitude': '42.1142897',\n",
       "  'longitude': '-87.9015376',\n",
       "  'name': 'Chicago Executive',\n",
       "  'timezone': '-6',\n",
       "  'tz_database': 'America/Chicago'},\n",
       " {'airport_id': '9435',\n",
       "  'altitude': '620',\n",
       "  'city': 'Chicago',\n",
       "  'count': 0,\n",
       "  'country': 'United States',\n",
       "  'dst': 'A',\n",
       "  'iata/faa': '',\n",
       "  'icao': '\\\\N',\n",
       "  'latitude': '41.8837',\n",
       "  'longitude': '-87.623',\n",
       "  'name': 'Chicago Millennium Station',\n",
       "  'timezone': '-6',\n",
       "  'tz_database': 'America/Chicago'},\n",
       " {'airport_id': '9340',\n",
       "  'altitude': '592',\n",
       "  'city': 'Chicago',\n",
       "  'count': 0,\n",
       "  'country': 'United States',\n",
       "  'dst': 'A',\n",
       "  'iata/faa': '',\n",
       "  'icao': '\\\\N',\n",
       "  'latitude': '41.875',\n",
       "  'longitude': '-87.632',\n",
       "  'name': 'Lasalle Station',\n",
       "  'timezone': '-6',\n",
       "  'tz_database': 'America/Chicago'},\n",
       " {'airport_id': '3818',\n",
       "  'altitude': '727',\n",
       "  'city': 'Chicago',\n",
       "  'count': 0,\n",
       "  'country': 'United States',\n",
       "  'dst': 'A',\n",
       "  'iata/faa': 'UGN',\n",
       "  'icao': 'KUGN',\n",
       "  'latitude': '42.422161',\n",
       "  'longitude': '-87.867908',\n",
       "  'name': 'Waukegan Rgnl',\n",
       "  'timezone': '-6',\n",
       "  'tz_database': 'America/Chicago'},\n",
       " {'airport_id': '7040',\n",
       "  'altitude': '500',\n",
       "  'city': 'Chicago',\n",
       "  'count': 0,\n",
       "  'country': 'United States',\n",
       "  'dst': 'U',\n",
       "  'iata/faa': '',\n",
       "  'icao': '\\\\N',\n",
       "  'latitude': '41.948958067066',\n",
       "  'longitude': '-87.6587533950806',\n",
       "  'name': 'Wrigleyville',\n",
       "  'timezone': '-6',\n",
       "  'tz_database': 'America/Chicago'},\n",
       " {'airport_id': '3699',\n",
       "  'altitude': '758',\n",
       "  'city': 'West Chicago',\n",
       "  'count': 0,\n",
       "  'country': 'United States',\n",
       "  'dst': 'A',\n",
       "  'iata/faa': 'DPA',\n",
       "  'icao': 'KDPA',\n",
       "  'latitude': '41.907778',\n",
       "  'longitude': '-88.248611',\n",
       "  'name': 'Dupage',\n",
       "  'timezone': '-6',\n",
       "  'tz_database': 'America/Chicago'},\n",
       " {'airport_id': '8592',\n",
       "  'altitude': '596',\n",
       "  'city': 'Chicago',\n",
       "  'count': 0,\n",
       "  'country': 'United States',\n",
       "  'dst': 'A',\n",
       "  'iata/faa': 'CHI',\n",
       "  'icao': '\\\\N',\n",
       "  'latitude': '41.883611',\n",
       "  'longitude': '-87.631667',\n",
       "  'name': 'All Airports',\n",
       "  'timezone': '-6',\n",
       "  'tz_database': 'America/Chicago'},\n",
       " {'airport_id': '8593',\n",
       "  'altitude': '585',\n",
       "  'city': 'Chicago',\n",
       "  'count': 0,\n",
       "  'country': 'United States',\n",
       "  'dst': 'A',\n",
       "  'iata/faa': 'CGX',\n",
       "  'icao': 'KCGX',\n",
       "  'latitude': '41.860278',\n",
       "  'longitude': '-87.609722',\n",
       "  'name': 'Meigs Field',\n",
       "  'timezone': '-6',\n",
       "  'tz_database': 'America/Chicago'},\n",
       " {'airport_id': '6442',\n",
       "  'altitude': '581',\n",
       "  'city': 'Chicago',\n",
       "  'count': 0,\n",
       "  'country': 'United States',\n",
       "  'dst': 'A',\n",
       "  'iata/faa': '',\n",
       "  'icao': '\\\\N',\n",
       "  'latitude': '41.8791966',\n",
       "  'longitude': '-87.6388507',\n",
       "  'name': 'Chicago Union Station',\n",
       "  'timezone': '-6',\n",
       "  'tz_database': 'America/Chicago'},\n",
       " {'airport_id': '3747',\n",
       "  'altitude': '620',\n",
       "  'city': 'Chicago',\n",
       "  'count': 271,\n",
       "  'country': 'United States',\n",
       "  'dst': 'A',\n",
       "  'iata/faa': 'MDW',\n",
       "  'icao': 'KMDW',\n",
       "  'latitude': '41.785972',\n",
       "  'longitude': '-87.752417',\n",
       "  'name': 'Chicago Midway Intl',\n",
       "  'timezone': '-6',\n",
       "  'tz_database': 'America/Chicago'},\n",
       " {'airport_id': '3830',\n",
       "  'altitude': '668',\n",
       "  'city': 'Chicago',\n",
       "  'count': 1108,\n",
       "  'country': 'United States',\n",
       "  'dst': 'A',\n",
       "  'iata/faa': 'ORD',\n",
       "  'icao': 'KORD',\n",
       "  'latitude': '41.978603',\n",
       "  'longitude': '-87.904842',\n",
       "  'name': 'Chicago Ohare Intl',\n",
       "  'timezone': '-6',\n",
       "  'tz_database': 'America/Chicago'}]"
      ]
     },
     "execution_count": 3,
     "metadata": {},
     "output_type": "execute_result"
    }
   ],
   "source": [
    "find_airports('Chicago')"
   ]
  },
  {
   "cell_type": "code",
   "execution_count": 4,
   "metadata": {
    "collapsed": false
   },
   "outputs": [
    {
     "data": {
      "text/plain": [
       "[{'airport_id': '2376',\n",
       "  'altitude': '92',\n",
       "  'city': 'Seoul East',\n",
       "  'count': 0,\n",
       "  'country': 'South Korea',\n",
       "  'dst': 'U',\n",
       "  'iata/faa': 'SSN',\n",
       "  'icao': 'RKSM',\n",
       "  'latitude': '37.445833',\n",
       "  'longitude': '127.113889',\n",
       "  'name': 'Seoul Ab',\n",
       "  'timezone': '9',\n",
       "  'tz_database': 'Asia/Seoul'},\n",
       " {'airport_id': '8346',\n",
       "  'altitude': '58',\n",
       "  'city': 'Seoul',\n",
       "  'count': 0,\n",
       "  'country': 'South Korea',\n",
       "  'dst': 'N',\n",
       "  'iata/faa': 'SEL',\n",
       "  'icao': '\\\\N',\n",
       "  'latitude': '37.558311',\n",
       "  'longitude': '126.790586',\n",
       "  'name': 'Gimpo International Airpot',\n",
       "  'timezone': '9',\n",
       "  'tz_database': 'Asia/Seoul'},\n",
       " {'airport_id': '2378',\n",
       "  'altitude': '58',\n",
       "  'city': 'Seoul',\n",
       "  'count': 78,\n",
       "  'country': 'South Korea',\n",
       "  'dst': 'U',\n",
       "  'iata/faa': 'GMP',\n",
       "  'icao': 'RKSS',\n",
       "  'latitude': '37.558311',\n",
       "  'longitude': '126.790586',\n",
       "  'name': 'Gimpo',\n",
       "  'timezone': '9',\n",
       "  'tz_database': 'Asia/Seoul'},\n",
       " {'airport_id': '3930',\n",
       "  'altitude': '23',\n",
       "  'city': 'Seoul',\n",
       "  'count': 740,\n",
       "  'country': 'South Korea',\n",
       "  'dst': 'U',\n",
       "  'iata/faa': 'ICN',\n",
       "  'icao': 'RKSI',\n",
       "  'latitude': '37.469075',\n",
       "  'longitude': '126.450517',\n",
       "  'name': 'Incheon Intl',\n",
       "  'timezone': '9',\n",
       "  'tz_database': 'Asia/Seoul'}]"
      ]
     },
     "execution_count": 4,
     "metadata": {},
     "output_type": "execute_result"
    }
   ],
   "source": [
    "find_airports('Seoul')"
   ]
  },
  {
   "cell_type": "code",
   "execution_count": 5,
   "metadata": {
    "collapsed": true
   },
   "outputs": [],
   "source": [
    "ad = get_airport_data()"
   ]
  },
  {
   "cell_type": "code",
   "execution_count": 6,
   "metadata": {
    "collapsed": false
   },
   "outputs": [
    {
     "data": {
      "text/plain": [
       "{'airport_id': '3830',\n",
       " 'altitude': '668',\n",
       " 'city': 'Chicago',\n",
       " 'count': 1108,\n",
       " 'country': 'United States',\n",
       " 'dst': 'A',\n",
       " 'iata/faa': 'ORD',\n",
       " 'icao': 'KORD',\n",
       " 'latitude': '41.978603',\n",
       " 'longitude': '-87.904842',\n",
       " 'name': 'Chicago Ohare Intl',\n",
       " 'timezone': '-6',\n",
       " 'tz_database': 'America/Chicago'}"
      ]
     },
     "execution_count": 6,
     "metadata": {},
     "output_type": "execute_result"
    }
   ],
   "source": [
    "ad['3830']"
   ]
  },
  {
   "cell_type": "code",
   "execution_count": 7,
   "metadata": {
    "collapsed": false
   },
   "outputs": [
    {
     "name": "stdout",
     "output_type": "stream",
     "text": [
      "132\n",
      "253\n",
      "156\n",
      "1555\n",
      "3566\n",
      "3878\n",
      "3878\n",
      "737\n",
      "3448\n",
      "3878\n",
      "3878\n"
     ]
    }
   ],
   "source": [
    "routes = parse_routes()"
   ]
  },
  {
   "cell_type": "code",
   "execution_count": 8,
   "metadata": {
    "collapsed": false
   },
   "outputs": [
    {
     "data": {
      "text/plain": [
       "{'100': {'distance': 1050.3358887377692},\n",
       " '111': {'distance': 1412.6973424582845},\n",
       " '120': {'distance': 1589.0271161281173},\n",
       " '1229': {'distance': 6740.0305523024335},\n",
       " '1382': {'distance': 6660.027337157035},\n",
       " '146': {'distance': 1199.89794579532},\n",
       " '1555': {'distance': 7737.222040179056},\n",
       " '156': {'distance': 2829.638744235118},\n",
       " '160': {'distance': 1137.1297531566695},\n",
       " '1613': {'distance': 7561.709873225074},\n",
       " '166': {'distance': 1808.9967036377618},\n",
       " '1678': {'distance': 7126.243232626584},\n",
       " '1701': {'distance': 8808.401077467923},\n",
       " '174': {'distance': 565.3836520067318},\n",
       " '1760': {'distance': 3190.089120716907},\n",
       " '178': {'distance': 2222.8865105797727},\n",
       " '1780': {'distance': 2774.5824652889414},\n",
       " '1804': {'distance': 2787.634188708986},\n",
       " '1824': {'distance': 2716.999173744497},\n",
       " '1825': {'distance': 2118.183617638296},\n",
       " '1836': {'distance': 2870.830778014342},\n",
       " '1840': {'distance': 2907.3407414673547},\n",
       " '1852': {'distance': 2329.1780864267707},\n",
       " '1871': {'distance': 3750.728804297},\n",
       " '1885': {'distance': 3572.569747473274},\n",
       " '1892': {'distance': 3173.1936413188196},\n",
       " '1926': {'distance': 2595.464146960546},\n",
       " '193': {'distance': 699.9201630433599},\n",
       " '1953': {'distance': 2112.4245549668544},\n",
       " '2170': {'distance': 10007.477047601054},\n",
       " '2179': {'distance': 11680.5617574583},\n",
       " '2279': {'distance': 10067.635270014896},\n",
       " '2564': {'distance': 8422.76255649497},\n",
       " '2883': {'distance': 3405.8559732363906},\n",
       " '2890': {'distance': 3335.5860119495405},\n",
       " '2899': {'distance': 3546.7013161017744},\n",
       " '302': {'distance': 6670.988358393745},\n",
       " '3077': {'distance': 12514.6827738933},\n",
       " '3093': {'distance': 12013.728567867101},\n",
       " '3364': {'distance': 10555.81009227855},\n",
       " '340': {'distance': 6965.488765830547},\n",
       " '3406': {'distance': 11326.85008846394},\n",
       " '3448': {'distance': 1390.209802505005},\n",
       " '345': {'distance': 6784.146939677918},\n",
       " '3453': {'distance': 2945.438033913482},\n",
       " '3454': {'distance': 667.4603456852846},\n",
       " '3456': {'distance': 6720.076117222359},\n",
       " '3457': {'distance': 944.0636565979247},\n",
       " '3458': {'distance': 646.5957124522507},\n",
       " '3459': {'distance': 174.36229189415047},\n",
       " '346': {'distance': 7264.9915388425325},\n",
       " '3462': {'distance': 2311.9382785929306},\n",
       " '3469': {'distance': 2962.0906965479317},\n",
       " '3473': {'distance': 791.4847373341202},\n",
       " '3484': {'distance': 2800.3578975956357},\n",
       " '3486': {'distance': 506.2514293140406},\n",
       " '3488': {'distance': 425.1156303584336},\n",
       " '3494': {'distance': 1153.735140305444},\n",
       " '3495': {'distance': 2305.5064437271626},\n",
       " '351': {'distance': 7076.782428154536},\n",
       " '3515': {'distance': 1211.485886548142},\n",
       " '3520': {'distance': 982.0042762520612},\n",
       " '3524': {'distance': 1155.6209631080076},\n",
       " '3533': {'distance': 1904.198843966052},\n",
       " '3536': {'distance': 2004.8734858094087},\n",
       " '3542': {'distance': 953.2879926807838},\n",
       " '3543': {'distance': 748.1094385009442},\n",
       " '3544': {'distance': 286.4512808349647},\n",
       " '3550': {'distance': 1489.7129133685214},\n",
       " '3559': {'distance': 1986.2772388064636},\n",
       " '3561': {'distance': 1072.307762832016},\n",
       " '3564': {'distance': 1280.1201290774843},\n",
       " '3570': {'distance': 661.8235686812938},\n",
       " '3576': {'distance': 1928.826551365562},\n",
       " '3577': {'distance': 2760.037523618213},\n",
       " '3578': {'distance': 806.4122373329828},\n",
       " '3580': {'distance': 1091.2614942080731},\n",
       " '3585': {'distance': 285.41559461412004},\n",
       " '3589': {'distance': 1184.1588976073317},\n",
       " '3598': {'distance': 638.5171621479016},\n",
       " '3608': {'distance': 1031.0047617855012},\n",
       " '3611': {'distance': 1150.9564514295223},\n",
       " '3613': {'distance': 1244.6712719584837},\n",
       " '3621': {'distance': 1676.3686563348208},\n",
       " '3622': {'distance': 846.6683134688811},\n",
       " '3626': {'distance': 1038.5639211843525},\n",
       " '3627': {'distance': 385.8664160991579},\n",
       " '3636': {'distance': 2308.0383991467106},\n",
       " '3641': {'distance': 1362.5723550801724},\n",
       " '3645': {'distance': 376.15695691772856},\n",
       " '3646': {'distance': 1630.2336582683592},\n",
       " '3653': {'distance': 279.1250639136954},\n",
       " '3660': {'distance': 888.8469216246563},\n",
       " '3670': {'distance': 1289.8302274575287},\n",
       " '3673': {'distance': 1573.570328918349},\n",
       " '3675': {'distance': 487.8650076432883},\n",
       " '3676': {'distance': 764.0727469116839},\n",
       " '3678': {'distance': 415.15740568121345},\n",
       " '3682': {'distance': 975.7152207438495},\n",
       " '3685': {'distance': 219.59058983030306},\n",
       " '3690': {'distance': 659.0751099559328},\n",
       " '3697': {'distance': 1176.3176820678932},\n",
       " '3711': {'distance': 1224.3458472588784},\n",
       " '3712': {'distance': 1391.5566871521376},\n",
       " '3714': {'distance': 944.8123261107413},\n",
       " '3717': {'distance': 107.64002550674033},\n",
       " '3719': {'distance': 506.5099648750441},\n",
       " '3720': {'distance': 2789.8606009473306},\n",
       " '3722': {'distance': 1842.5418788094955},\n",
       " '3728': {'distance': 6814.87611689792},\n",
       " '3729': {'distance': 479.801964988767},\n",
       " '3731': {'distance': 2766.3019841944465},\n",
       " '3745': {'distance': 973.2939952395233},\n",
       " '3748': {'distance': 2935.2684866613854},\n",
       " '3751': {'distance': 1425.1394203920113},\n",
       " '3752': {'distance': 1087.6389443977487},\n",
       " '3753': {'distance': 699.4507756852034},\n",
       " '3759': {'distance': 474.50471752862916},\n",
       " '3774': {'distance': 4565.525871117488},\n",
       " '3782': {'distance': 1254.672223291946},\n",
       " '3793': {'distance': 1805.2970270649778},\n",
       " '3797': {'distance': 1187.0923801975634},\n",
       " '3806': {'distance': 1223.3296635449365},\n",
       " '3807': {'distance': 2681.3937287321155},\n",
       " '3811': {'distance': 940.6159652498131},\n",
       " '3817': {'distance': 2857.976130499875},\n",
       " '3819': {'distance': 1461.9654905176278},\n",
       " '3820': {'distance': 759.1690469548935},\n",
       " '3825': {'distance': 1256.1955403760153},\n",
       " '3838': {'distance': 990.602237126314},\n",
       " '3839': {'distance': 2651.3347793402127},\n",
       " '3843': {'distance': 736.8091323720661},\n",
       " '3849': {'distance': 997.3461194679339},\n",
       " '3855': {'distance': 940.8590409316142},\n",
       " '3858': {'distance': 536.6501897045842},\n",
       " '3861': {'distance': 1348.4041183664183},\n",
       " '3862': {'distance': 1443.5283926308728},\n",
       " '3863': {'distance': 1113.54155370916},\n",
       " '3864': {'distance': 1159.7880710069},\n",
       " '3867': {'distance': 2770.2013146247004},\n",
       " '3876': {'distance': 963.9735411574662},\n",
       " '3877': {'distance': 2430.1852289712488},\n",
       " '3878': {'distance': 1619.0683795654015},\n",
       " '3930': {'distance': 10512.484715223292},\n",
       " '3946': {'distance': 908.09798127114},\n",
       " '4007': {'distance': 862.6126635714983},\n",
       " '4008': {'distance': 947.8824225573301},\n",
       " '4009': {'distance': 742.0623904016193},\n",
       " '4011': {'distance': 1352.2582502578216},\n",
       " '4014': {'distance': 461.18878191467195},\n",
       " '4015': {'distance': 909.4063993272918},\n",
       " '4016': {'distance': 852.3905552248268},\n",
       " '4017': {'distance': 520.234682199225},\n",
       " '4018': {'distance': 439.15591865518957},\n",
       " '4019': {'distance': 1794.7994886627298},\n",
       " '4020': {'distance': 1902.712234563042},\n",
       " '4023': {'distance': 359.78898287112924},\n",
       " '4034': {'distance': 929.2488319840126},\n",
       " '4037': {'distance': 187.02746353345168},\n",
       " '4039': {'distance': 196.0442616697212},\n",
       " '4040': {'distance': 342.2386839180442},\n",
       " '4041': {'distance': 251.4710540624354},\n",
       " '4042': {'distance': 251.54675261314122},\n",
       " '4043': {'distance': 314.78877249813195},\n",
       " '4044': {'distance': 344.88142206902853},\n",
       " '4045': {'distance': 340.8622484892054},\n",
       " '4046': {'distance': 208.82428031401997},\n",
       " '4047': {'distance': 257.9195609740324},\n",
       " '4048': {'distance': 430.8455413560834},\n",
       " '4049': {'distance': 217.77065352168142},\n",
       " '4050': {'distance': 803.9427175265615},\n",
       " '4067': {'distance': 1691.7471147128208},\n",
       " '4072': {'distance': 223.78174149340734},\n",
       " '4087': {'distance': 1250.5734203094944},\n",
       " '4089': {'distance': 358.22921118425677},\n",
       " '4112': {'distance': 550.9585220614016},\n",
       " '4113': {'distance': 821.718331351165},\n",
       " '4117': {'distance': 551.5819808443795},\n",
       " '4128': {'distance': 356.6650185937069},\n",
       " '4271': {'distance': 633.09602812329},\n",
       " '4285': {'distance': 668.805409742055},\n",
       " '4286': {'distance': 1012.9878524315426},\n",
       " '4292': {'distance': 894.2031136579607},\n",
       " '4318': {'distance': 846.8954348129473},\n",
       " '4336': {'distance': 280.0438499308009},\n",
       " '4348': {'distance': 704.6712543833135},\n",
       " '4355': {'distance': 1049.7348219025853},\n",
       " '4356': {'distance': 839.2995071432126},\n",
       " '4359': {'distance': 134.80591536311812},\n",
       " '4388': {'distance': 235.65072447805048},\n",
       " '478': {'distance': 6136.109946322847},\n",
       " '49': {'distance': 2278.398061796421},\n",
       " '507': {'distance': 6339.446945662921},\n",
       " '5718': {'distance': 375.1776491374278},\n",
       " '5726': {'distance': 299.57192046180785},\n",
       " '5732': {'distance': 578.5633622595549},\n",
       " '5735': {'distance': 431.65353568807103},\n",
       " '5754': {'distance': 190.03085140143918},\n",
       " '580': {'distance': 6607.713307253993},\n",
       " '599': {'distance': 5891.621069072878},\n",
       " '609': {'distance': 6849.412070588289},\n",
       " '679': {'distance': 7514.176097983832},\n",
       " '73': {'distance': 1987.2790396603264},\n",
       " '737': {'distance': 6851.38160502432},\n",
       " '79': {'distance': 635.8914294457637}}"
      ]
     },
     "execution_count": 8,
     "metadata": {},
     "output_type": "execute_result"
    }
   ],
   "source": [
    "routes['3830']"
   ]
  },
  {
   "cell_type": "code",
   "execution_count": 12,
   "metadata": {
    "collapsed": false
   },
   "outputs": [
    {
     "name": "stdout",
     "output_type": "stream",
     "text": [
      "ORD goes to 205 destinations\n"
     ]
    }
   ],
   "source": [
    "print \"ORD goes to {0} destinations\".format(len(routes['3830'].keys()))\n"
   ]
  },
  {
   "cell_type": "code",
   "execution_count": 5,
   "metadata": {
    "collapsed": true
   },
   "outputs": [],
   "source": [
    "def optimize_paths_distance_hops(start, end):\n",
    "    \"\"\"\n",
    "    Parameters\n",
    "    ----------\n",
    "    start : str city name for start\n",
    "    end : str city name for end\n",
    "\n",
    "    Returns\n",
    "    ---------\n",
    "    paths : list of paths to take\n",
    "    \"\"\"\n",
    "    airport_graph = parse_routes()\n",
    "    nodes_to_traverse = []\n",
    "    paths = {}\n",
    "    for n in airport_graph[start].keys():\n",
    "        nodes_to_traverse.append( n )\n",
    "        paths[n] = {\n",
    "                #'distance' : airport_graph.get_edge_data(start, n)['attr_dict']['distance'],\n",
    "                'distance' : airport_graph.get_edge_data(start, n)['distance'],\n",
    "                'path' : [start, n],\n",
    "                'paths' : []\n",
    "                }\n",
    "    while len(nodes_to_traverse) > 0:\n",
    "        n = nodes_to_traverse[0]\n",
    "        del nodes_to_traverse[0]\n",
    "        for n1 in airport_graph[n].keys():\n",
    "            if not paths.get(n1):\n",
    "                paths[n1] = {\n",
    "                        #'distance' : paths[n]['distance'] + airport_graph.get_edge_data(n, n1)['attr_dict']['distance'],\n",
    "                        'distance' : paths[n]['distance'] + airport_graph.get_edge_data(n, n1)['distance'],\n",
    "                        'path' : paths[n]['path'] + [n1],\n",
    "                        'paths' : [ paths[n]['path'] + [n1] ]\n",
    "                        }\n",
    "                nodes_to_traverse.append(n1)\n",
    "            else:\n",
    "                paths[n1]['paths'].append(paths[n]['path'] + [n1])\n",
    "#                if paths[n1]['distance'] > paths[n]['distance'] + airport_graph.get_edge_data(n, n1)['attr_dict']['distance'] and len(paths[n1]['path']) >= len(paths[n]['path'] + [n1]):\n",
    "                if paths[n1]['distance'] > paths[n]['distance'] + airport_graph.get_edge_data(n, n1)['distance'] and len(paths[n1]['path']) >= len(paths[n]['path'] + [n1]):\n",
    "                    paths[n1]['path'] = paths[n]['path'] + [n1]\n",
    "                    paths[n1]['distance'] = paths[n]['distance'] + airport_graph.get_edge_data(n, n1)['distance']\n",
    "#                    paths[n1]['distance'] = paths[n]['distance'] + airport_graph.get_edge_data(n, n1)['attr_dict']['distance']\n",
    "\n",
    "    return paths\n",
    "    #return paths[end]"
   ]
  },
  {
   "cell_type": "code",
   "execution_count": 6,
   "metadata": {
    "collapsed": false
   },
   "outputs": [
    {
     "name": "stdout",
     "output_type": "stream",
     "text": [
      "132\n",
      "253\n",
      "156\n",
      "1555\n",
      "3566\n",
      "3878\n",
      "3878\n",
      "737\n",
      "3448\n",
      "3878\n",
      "3878\n"
     ]
    }
   ],
   "source": [
    "paths = optimize_paths_distance_hops('3830', '3930')"
   ]
  },
  {
   "cell_type": "code",
   "execution_count": 19,
   "metadata": {
    "collapsed": false
   },
   "outputs": [
    {
     "data": {
      "text/plain": [
       "3251"
      ]
     },
     "execution_count": 19,
     "metadata": {},
     "output_type": "execute_result"
    }
   ],
   "source": [
    "len(paths.keys())"
   ]
  },
  {
   "cell_type": "code",
   "execution_count": 20,
   "metadata": {
    "collapsed": false
   },
   "outputs": [
    {
     "data": {
      "text/plain": [
       "{'distance': 10512.484715223292,\n",
       " 'path': ['3830', '3930'],\n",
       " 'paths': [['3830', '3714', '3930'],\n",
       "  ['3830', '3093', '3930'],\n",
       "  ['3830', '580', '3930'],\n",
       "  ['3830', '3550', '3930'],\n",
       "  ['3830', '3797', '3930'],\n",
       "  ['3830', '346', '3930'],\n",
       "  ['3830', '340', '3930'],\n",
       "  ['3830', '3484', '3930'],\n",
       "  ['3830', '3406', '3930'],\n",
       "  ['3830', '3645', '3930'],\n",
       "  ['3830', '1701', '3930'],\n",
       "  ['3830', '1555', '3930'],\n",
       "  ['3830', '1382', '3930'],\n",
       "  ['3830', '193', '3930'],\n",
       "  ['3830', '3670', '3930'],\n",
       "  ['3830', '2179', '3930'],\n",
       "  ['3830', '1678', '3930'],\n",
       "  ['3830', '2279', '3930'],\n",
       "  ['3830', '3469', '3930'],\n",
       "  ['3830', '3364', '3930'],\n",
       "  ['3830', '1229', '3930'],\n",
       "  ['3830', '507', '3930'],\n",
       "  ['3830', '3877', '3930'],\n",
       "  ['3830', '3728', '3930'],\n",
       "  ['3830', '3077', '3930'],\n",
       "  ['3830', '3682', '3930'],\n",
       "  ['3830', '156', '3930'],\n",
       "  ['3830', '1613', '3930'],\n",
       "  ['3830', '3577', '3930'],\n",
       "  ['3830', '737', '2985', '3930'],\n",
       "  ['3830', '737', '2188', '3930'],\n",
       "  ['3830', '3717', '3830', '3930'],\n",
       "  ['3830', '1701', '2082', '3930'],\n",
       "  ['3830', '3093', '2997', '3930'],\n",
       "  ['3830', '1382', '1524', '3930'],\n",
       "  ['3830', '345', '1590', '3930'],\n",
       "  ['3830', '3093', '3125', '3930'],\n",
       "  ['3830', '580', '2908', '3930'],\n",
       "  ['3830', '1382', '4059', '3930'],\n",
       "  ['3830', '3364', '3304', '3930'],\n",
       "  ['3830', '507', '2983', '3930'],\n",
       "  ['3830', '3093', '3024', '3930'],\n",
       "  ['3830', '737', '421', '3930'],\n",
       "  ['3830', '3364', '3316', '3930'],\n",
       "  ['3830', '3930', '2276', '3930'],\n",
       "  ['3830', '3484', '3361', '3930'],\n",
       "  ['3830', '3364', '3885', '3930'],\n",
       "  ['3830', '3364', '3370', '3930'],\n",
       "  ['3830', '2279', '3992', '3930'],\n",
       "  ['3830', '3930', '3386', '3930'],\n",
       "  ['3830', '3406', '3383', '3930'],\n",
       "  ['3830', '2279', '2305', '3930'],\n",
       "  ['3830', '3364', '3395', '3930'],\n",
       "  ['3830', '737', '2948', '3930'],\n",
       "  ['3830', '580', '1587', '3930'],\n",
       "  ['3830', '156', '2359', '3930'],\n",
       "  ['3830', '156', '4144', '3930'],\n",
       "  ['3830', '2279', '3942', '3930'],\n",
       "  ['3830', '3930', '3388', '3930'],\n",
       "  ['3830', '3364', '3205', '3930'],\n",
       "  ['3830', '3364', '3199', '3930'],\n",
       "  ['3830', '3484', '3320', '3930'],\n",
       "  ['3830', '2279', '2397', '3930'],\n",
       "  ['3830', '3484', '1960', '3930'],\n",
       "  ['3830', '3484', '2006', '3930'],\n",
       "  ['3830', '2279', '2322', '3930'],\n",
       "  ['3830', '3930', '2327', '3930'],\n",
       "  ['3830', '2279', '2326', '3930'],\n",
       "  ['3830', '3930', '2324', '3930'],\n",
       "  ['3830', '3364', '3121', '3930'],\n",
       "  ['3830', '3930', '6476', '3930'],\n",
       "  ['3830', '2279', '2244', '3930'],\n",
       "  ['3830', '3364', '3931', '3930'],\n",
       "  ['3830', '3930', '5996', '3930'],\n",
       "  ['3830', '3930', '3404', '3930'],\n",
       "  ['3830', '3364', '3035', '3930'],\n",
       "  ['3830', '3930', '2313', '3930'],\n",
       "  ['3830', '2279', '3940', '3930'],\n",
       "  ['3830', '3364', '3384', '3930'],\n",
       "  ['3830', '3364', '3382', '3930'],\n",
       "  ['3830', '2279', '2307', '3930'],\n",
       "  ['3830', '3364', '3389', '3930'],\n",
       "  ['3830', '2279', '2384', '3930'],\n",
       "  ['3830', '3930', '2264', '3930'],\n",
       "  ['3830', '2279', '2287', '3930'],\n",
       "  ['3830', '3930', '3269', '3930'],\n",
       "  ['3830', '3930', '3368', '3930'],\n",
       "  ['3830', '3930', '3390', '3930'],\n",
       "  ['3830', '3364', '3393', '3930'],\n",
       "  ['3830', '2279', '2337', '3930'],\n",
       "  ['3830', '3930', '2370', '3930'],\n",
       "  ['3830', '2279', '4381', '3930'],\n",
       "  ['3830', '3930', '4380', '3930'],\n",
       "  ['3830', '3364', '4108', '3930'],\n",
       "  ['3830', '3364', '3179', '3930'],\n",
       "  ['3830', '3930', '3392', '3930'],\n",
       "  ['3830', '3364', '3379', '3930'],\n",
       "  ['3830', '3364', '3376', '3930'],\n",
       "  ['3830', '3364', '3375', '3930'],\n",
       "  ['3830', '3364', '3374', '3930'],\n",
       "  ['3830', '3364', '3372', '3930'],\n",
       "  ['3830', '3364', '3371', '3930'],\n",
       "  ['3830', '3406', '3275', '3930'],\n",
       "  ['3830', '2279', '2347', '3930'],\n",
       "  ['3830', '3930', '6414', '3930'],\n",
       "  ['3830', '3930', '2381', '3930'],\n",
       "  ['3830', '3077', '3034', '3930'],\n",
       "  ['3830', '2279', '2333', '3930'],\n",
       "  ['3830', '3930', '3400', '3930'],\n",
       "  ['3830', '3077', '3196', '3930'],\n",
       "  ['3830', '3930', '3402', '3930'],\n",
       "  ['3830', '2279', '2246', '3930'],\n",
       "  ['3830', '2279', '2310', '3930'],\n",
       "  ['3830', '2279', '2256', '3930'],\n",
       "  ['3830', '2279', '4206', '3930'],\n",
       "  ['3830', '3364', '3380', '3930'],\n",
       "  ['3830', '2279', '2934', '3930'],\n",
       "  ['3830', '2279', '2933', '3930'],\n",
       "  ['3830', '2279', '2927', '3930'],\n",
       "  ['3830', '3364', '3239', '3930'],\n",
       "  ['3830', '2279', '2330', '3930'],\n",
       "  ['3830', '3364', '4033', '3930'],\n",
       "  ['3830', '3930', '6387', '3930'],\n",
       "  ['3830', '3930', '3387', '3930'],\n",
       "  ['3830', '3930', '4140', '3930'],\n",
       "  ['3830', '3930', '2312', '3930'],\n",
       "  ['3830', '3930', '2308', '3930'],\n",
       "  ['3830', '3930', '2296', '3930'],\n",
       "  ['3830', '3930', '2430', '3930'],\n",
       "  ['3830', '3930', '2345', '3930'],\n",
       "  ['3830', '3930', '2340', '3930'],\n",
       "  ['3830', '3930', '3120', '3930']]}"
      ]
     },
     "execution_count": 20,
     "metadata": {},
     "output_type": "execute_result"
    }
   ],
   "source": [
    "paths['3930']"
   ]
  },
  {
   "cell_type": "code",
   "execution_count": 34,
   "metadata": {
    "collapsed": false
   },
   "outputs": [
    {
     "data": {
      "text/plain": [
       "{'airport_id': '3797',\n",
       " 'altitude': '13',\n",
       " 'city': 'New York',\n",
       " 'count': 911,\n",
       " 'country': 'United States',\n",
       " 'dst': 'A',\n",
       " 'iata/faa': 'JFK',\n",
       " 'icao': 'KJFK',\n",
       " 'latitude': '40.639751',\n",
       " 'longitude': '-73.778925',\n",
       " 'name': 'John F Kennedy Intl',\n",
       " 'timezone': '-5',\n",
       " 'tz_database': 'America/New_York'}"
      ]
     },
     "execution_count": 34,
     "metadata": {},
     "output_type": "execute_result"
    }
   ],
   "source": [
    "ad['3797']"
   ]
  },
  {
   "cell_type": "code",
   "execution_count": 36,
   "metadata": {
    "collapsed": false
   },
   "outputs": [
    {
     "data": {
      "text/plain": [
       "{'distance': 10512.484715223292}"
      ]
     },
     "execution_count": 36,
     "metadata": {},
     "output_type": "execute_result"
    }
   ],
   "source": [
    "routes.get_edge_data('3830', '3930')"
   ]
  },
  {
   "cell_type": "code",
   "execution_count": null,
   "metadata": {
    "collapsed": true
   },
   "outputs": [],
   "source": []
  },
  {
   "cell_type": "code",
   "execution_count": null,
   "metadata": {
    "collapsed": true
   },
   "outputs": [],
   "source": []
  },
  {
   "cell_type": "code",
   "execution_count": 29,
   "metadata": {
    "collapsed": false
   },
   "outputs": [
    {
     "data": {
      "text/plain": [
       "65723449"
      ]
     },
     "execution_count": 29,
     "metadata": {},
     "output_type": "execute_result"
    }
   ],
   "source": [
    "# for every start and end\n",
    "\n",
    "len(ad.keys())**2"
   ]
  },
  {
   "cell_type": "code",
   "execution_count": null,
   "metadata": {
    "collapsed": true
   },
   "outputs": [],
   "source": [
    "# for every start and end combination\n",
    "# search the shortest path between the two locations\n",
    "\n",
    "# this could start as a quick website with two inputs\n",
    "# start and end \n",
    "\n",
    "# we will show all possible routes\n",
    "\n",
    "# what's currently being done is the following:\n",
    "# Start: Bogota\n",
    "# End: JFK\n",
    "# Algorithm looks for flights going past bogota but through JFK/NYC\n",
    "# and finds out whether or not the flights connecting in your destination\n",
    "# are cheaper than direct non connecting flights to your destination\n",
    "# sometimes this is the case for the exact same airline, which shows\n",
    "# the true economic exploitation game being played by the airline industry's\n",
    "# online pricing schemes...\n",
    "\n",
    "# an interesting additional approach to this problem would be doing the other side\n",
    "# Start: Bogota\n",
    "# End: JFK\n",
    "#\n",
    "# Algorithm looks for flights going out of cities connecting in your start city\n",
    "# and ending in your destination city or somewhere else and figuring out\n",
    "# whether or not the routes are cheaper than the direct start -> end flights\n",
    "# \n",
    "# I suspect the price skew exists as a reflection of the start/end destination economic\n",
    "# status\n",
    "# \n",
    "# This is why direct flights to NYC are more expensive than flights passing through\n",
    "# NYC continuing onto other cities\n",
    "# \n",
    "# This same phenomenon is likely to exist in it's most extreme form in cities\n",
    "# with the greatest economic status\n",
    "#"
   ]
  }
 ],
 "metadata": {
  "kernelspec": {
   "display_name": "Python 2",
   "language": "python",
   "name": "python2"
  },
  "language_info": {
   "codemirror_mode": {
    "name": "ipython",
    "version": 2
   },
   "file_extension": ".py",
   "mimetype": "text/x-python",
   "name": "python",
   "nbconvert_exporter": "python",
   "pygments_lexer": "ipython2",
   "version": "2.7.13"
  }
 },
 "nbformat": 4,
 "nbformat_minor": 2
}
